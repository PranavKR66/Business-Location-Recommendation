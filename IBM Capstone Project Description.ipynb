{
    "nbformat_minor": 1, 
    "cells": [
        {
            "source": "## Capstone project: The Battle of Neighborhoods (week 1)", 
            "cell_type": "markdown", 
            "metadata": {
                "collapsed": true
            }
        }, 
        {
            "source": "### Segmentation and Clustering venues in Toronto and New York", 
            "cell_type": "markdown", 
            "metadata": {}
        }, 
        {
            "source": "by: **Pranav KR**", 
            "cell_type": "markdown", 
            "metadata": {}
        }, 
        {
            "source": "![alt text](https://www.narcity.com/uploads/b887ddcab416c7eae708e20538f75b9534e76169.png_facebook.png \"NYC and Toronto\")", 
            "cell_type": "markdown", 
            "metadata": {}
        }, 
        {
            "source": "### 1. Introduction", 
            "cell_type": "markdown", 
            "metadata": {}
        }, 
        {
            "source": "New York City and Toronto are two of the biggest cities in North America. Both cities are among the cultural and commercial centres of their respective countries. New York City accounts for 7.8% of the GDP of the United States and Toronto accounts for a massive 20% of Canada's GDP. NYC welcomes around 60 million tourists per year and Toronto welcomes about 40 million tourists. They are also the populated cities of their respective country's making these cities excellent choices when looking to start a business, with potential customers from both local residents and tourists.\n\nProspective business owners will need to research the various neighborhoods before deciding on a final location. This has to be done based on several factors, like nearby residential areas, tourist destinations, office buildings, competitors, public facilities, and most importantly average rental fare.", 
            "cell_type": "markdown", 
            "metadata": {}
        }, 
        {
            "source": "### 2. Objective", 
            "cell_type": "markdown", 
            "metadata": {}
        }, 
        {
            "source": "This project will give insight to business owners by comparing neighborhoods based on districts in Manhattan and Toronto to choose best suited location based on top 10 common venues surrounding it.\n\nMethods:\n\n* Web scraping the list of Neighbourhood/Boroughs in NYC and Toronto from Wikipedia.\n* Extracting top trending venues using Foursquare API.\n* Forming neighborhood clusters based on venue categories using unsupervised k-means clustering algorithm.\n* Understanding the similarities and differences between neighbourhoods to retrieve more insights and to conclude which neighborhood is best suited for business prospect.", 
            "cell_type": "markdown", 
            "metadata": {}
        }, 
        {
            "source": "### 3. Data Reference and Library", 
            "cell_type": "markdown", 
            "metadata": {}
        }, 
        {
            "source": "3.1. **Neighbourhood list in NYC and Toronto**\n\nI will be extracting list of Neighbourhoods in Toronto from the following Wikipedia page: https://en.wikipedia.org/wiki/List_of_postal_codes_of_Canada:_M.Similarly, I will be extracting data for New York from the following link: https://cocl.us/new_york_dataset. Using pandas to extract HTML table information from Wikipedia and load it into dataframe and perform necessary data clean-up.", 
            "cell_type": "markdown", 
            "metadata": {}
        }, 
        {
            "source": "3.2. **Geolocation of each district in Bali**\n\n\nGeolocation contains longtitude and latitude of each neighbourhood in Toronto from a csv file that was provided by Coursera. Coordinates for NYC were obtained using geopy library. Using pandas dataframe to load the data and merge it with above neighbourhood information, then get top venues using Foursquare API using geolocation information.", 
            "cell_type": "markdown", 
            "metadata": {}
        }, 
        {
            "execution_count": null, 
            "cell_type": "code", 
            "metadata": {}, 
            "outputs": [], 
            "source": ""
        }
    ], 
    "metadata": {
        "kernelspec": {
            "display_name": "Python 3.6", 
            "name": "python3", 
            "language": "python"
        }, 
        "language_info": {
            "mimetype": "text/x-python", 
            "nbconvert_exporter": "python", 
            "version": "3.6.8", 
            "name": "python", 
            "file_extension": ".py", 
            "pygments_lexer": "ipython3", 
            "codemirror_mode": {
                "version": 3, 
                "name": "ipython"
            }
        }
    }, 
    "nbformat": 4
}